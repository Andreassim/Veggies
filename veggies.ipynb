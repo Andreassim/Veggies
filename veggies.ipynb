{
 "cells": [
  {
   "cell_type": "code",
   "execution_count": 1,
   "id": "e25f1d3c",
   "metadata": {},
   "outputs": [],
   "source": [
    "import numpy as np\n",
    "import tensorflow as tf\n",
    "from tensorflow.keras.models import Sequential, load_model\n",
    "from tensorflow.keras.layers import Dense, Conv2D, MaxPool2D, Flatten\n",
    "from tensorflow.keras.optimizers import Adam\n",
    "from sklearn.metrics import confusion_matrix, accuracy_score\n",
    "from keras.preprocessing.image import ImageDataGenerator\n",
    "import keras.utils as image\n",
    "import PIL"
   ]
  },
  {
   "cell_type": "code",
   "execution_count": 2,
   "id": "fbb2c117",
   "metadata": {},
   "outputs": [],
   "source": [
    "#set up constants\n",
    "targetSize = 28\n",
    "color = 'rgb'\n",
    "classMode = 'categorical'\n",
    "trainingFiles = 'Vegetable_Images/train'"
   ]
  },
  {
   "cell_type": "code",
   "execution_count": 3,
   "id": "8cbf10d8",
   "metadata": {},
   "outputs": [
    {
     "name": "stdout",
     "output_type": "stream",
     "text": [
      "Found 15000 images belonging to 15 classes.\n",
      "Found 3000 images belonging to 15 classes.\n"
     ]
    }
   ],
   "source": [
    "#preprocessiing\n",
    "\n",
    "train_datagen = ImageDataGenerator(\n",
    "    rescale=1./255,\n",
    "    shear_range = 0.2,\n",
    "    zoom_range = 0.2,\n",
    "    horizontal_flip = True)\n",
    "\n",
    "#trainingSet\n",
    "\n",
    "training_set = train_datagen.flow_from_directory(\n",
    "    trainingFiles,\n",
    "    target_size = (targetSize, targetSize),\n",
    "    batch_size = 32,\n",
    "    class_mode = classMode,\n",
    "    color_mode = color\n",
    ")\n",
    "\n",
    "#setup test\n",
    "test_datagen = ImageDataGenerator(rescale=1./255)\n",
    "\n",
    "test_set = test_datagen.flow_from_directory(\n",
    "        'Vegetable_Images/test', \n",
    "        target_size=(targetSize, targetSize), \n",
    "        batch_size=32,\n",
    "        class_mode=classMode,\n",
    "        color_mode=color)"
   ]
  },
  {
   "cell_type": "code",
   "execution_count": 4,
   "id": "c73bb997",
   "metadata": {},
   "outputs": [
    {
     "name": "stdout",
     "output_type": "stream",
     "text": [
      "Metal device set to: Apple M1\n"
     ]
    },
    {
     "name": "stderr",
     "output_type": "stream",
     "text": [
      "2023-03-13 13:32:14.877321: I tensorflow/core/common_runtime/pluggable_device/pluggable_device_factory.cc:305] Could not identify NUMA node of platform GPU ID 0, defaulting to 0. Your kernel may not have been built with NUMA support.\n",
      "2023-03-13 13:32:14.877574: I tensorflow/core/common_runtime/pluggable_device/pluggable_device_factory.cc:271] Created TensorFlow device (/job:localhost/replica:0/task:0/device:GPU:0 with 0 MB memory) -> physical PluggableDevice (device: 0, name: METAL, pci bus id: <undefined>)\n"
     ]
    }
   ],
   "source": [
    "# create model\n",
    "\n",
    "model = Sequential()\n",
    "\n",
    "model.add(Conv2D(\n",
    "    filters = 32,\n",
    "    kernel_size = 3,\n",
    "    activation = 'relu',\n",
    "    input_shape = [targetSize, targetSize, 3]))\n",
    "\n",
    "model.add(MaxPool2D(\n",
    "    pool_size = 2,\n",
    "    strides = 2\n",
    "))\n",
    "\n",
    "model.add(Conv2D(\n",
    "    filters = 64,\n",
    "    kernel_size = 3,\n",
    "    activation = 'relu',\n",
    "    input_shape = [targetSize, targetSize, 3]))\n",
    "\n",
    "model.add(MaxPool2D(\n",
    "    pool_size = 2,\n",
    "    strides = 2\n",
    "))\n",
    "\n",
    "model.add(Conv2D(\n",
    "    filters = 128,\n",
    "    kernel_size = 3,\n",
    "    activation = 'relu',\n",
    "    input_shape = [targetSize, targetSize, 3]))\n",
    "\n",
    "model.add(MaxPool2D(\n",
    "    pool_size = 2,\n",
    "    strides = 2\n",
    "))\n",
    "\n",
    "model.add(Flatten())\n",
    "\n",
    "model.add(Dense(\n",
    "    units = 128,\n",
    "    activation = 'relu'))\n",
    "\n",
    "model.add(Dense(\n",
    "    units = 32,\n",
    "    activation = 'relu'))\n",
    "\n",
    "model.add(Dense(\n",
    "    units = 15,\n",
    "    activation = 'sigmoid'))\n",
    "\n",
    "adam = Adam(learning_rate = 0.005)"
   ]
  },
  {
   "cell_type": "code",
   "execution_count": 5,
   "id": "aef2a4e0",
   "metadata": {},
   "outputs": [],
   "source": [
    "#Compile model\n",
    "model.compile(optimizer = adam, loss = 'categorical_crossentropy', metrics = ['accuracy'])"
   ]
  },
  {
   "cell_type": "code",
   "execution_count": 13,
   "id": "dc24e101",
   "metadata": {},
   "outputs": [
    {
     "name": "stdout",
     "output_type": "stream",
     "text": [
      "Epoch 1/30\n",
      "469/469 [==============================] - 12s 26ms/step - loss: 0.3943 - accuracy: 0.8785\n",
      "Epoch 2/30\n",
      "469/469 [==============================] - 12s 26ms/step - loss: 0.3972 - accuracy: 0.8747\n",
      "Epoch 3/30\n",
      "469/469 [==============================] - 11s 24ms/step - loss: 0.3685 - accuracy: 0.8855\n",
      "Epoch 4/30\n",
      "469/469 [==============================] - 11s 24ms/step - loss: 0.3833 - accuracy: 0.8829\n",
      "Epoch 5/30\n",
      "469/469 [==============================] - 11s 24ms/step - loss: 0.3475 - accuracy: 0.8901\n",
      "Epoch 6/30\n",
      "469/469 [==============================] - 11s 24ms/step - loss: 0.3900 - accuracy: 0.8823\n",
      "Epoch 7/30\n",
      "469/469 [==============================] - 11s 23ms/step - loss: 0.3845 - accuracy: 0.8825\n",
      "Epoch 8/30\n",
      "469/469 [==============================] - 11s 24ms/step - loss: 0.3689 - accuracy: 0.8865\n",
      "Epoch 9/30\n",
      "469/469 [==============================] - 10s 21ms/step - loss: 0.3514 - accuracy: 0.8923\n",
      "Epoch 10/30\n",
      "469/469 [==============================] - 11s 22ms/step - loss: 0.3606 - accuracy: 0.8876\n",
      "Epoch 11/30\n",
      "469/469 [==============================] - 10s 21ms/step - loss: 0.3417 - accuracy: 0.8965\n",
      "Epoch 12/30\n",
      "469/469 [==============================] - 10s 21ms/step - loss: 0.3330 - accuracy: 0.9017\n",
      "Epoch 13/30\n",
      "469/469 [==============================] - 10s 21ms/step - loss: 0.3532 - accuracy: 0.8934\n",
      "Epoch 14/30\n",
      "469/469 [==============================] - 10s 21ms/step - loss: 0.3574 - accuracy: 0.8928\n",
      "Epoch 15/30\n",
      "469/469 [==============================] - 10s 21ms/step - loss: 0.3502 - accuracy: 0.8965\n",
      "Epoch 16/30\n",
      "469/469 [==============================] - 10s 21ms/step - loss: 0.3198 - accuracy: 0.9021\n",
      "Epoch 17/30\n",
      "469/469 [==============================] - 10s 21ms/step - loss: 0.3489 - accuracy: 0.8916\n",
      "Epoch 18/30\n",
      "469/469 [==============================] - 10s 21ms/step - loss: 0.3076 - accuracy: 0.9089\n",
      "Epoch 19/30\n",
      "469/469 [==============================] - 10s 21ms/step - loss: 0.3305 - accuracy: 0.9007\n",
      "Epoch 20/30\n",
      "469/469 [==============================] - 10s 21ms/step - loss: 0.3033 - accuracy: 0.9073\n",
      "Epoch 21/30\n",
      "469/469 [==============================] - 10s 21ms/step - loss: 0.3477 - accuracy: 0.8978\n",
      "Epoch 22/30\n",
      "469/469 [==============================] - 11s 23ms/step - loss: 0.2910 - accuracy: 0.9132\n",
      "Epoch 23/30\n",
      "469/469 [==============================] - 10s 22ms/step - loss: 0.3610 - accuracy: 0.8953\n",
      "Epoch 24/30\n",
      "469/469 [==============================] - 10s 21ms/step - loss: 0.2891 - accuracy: 0.9127\n",
      "Epoch 25/30\n",
      "469/469 [==============================] - 10s 22ms/step - loss: 0.3365 - accuracy: 0.9007\n",
      "Epoch 26/30\n",
      "469/469 [==============================] - 10s 21ms/step - loss: 0.3223 - accuracy: 0.9036\n",
      "Epoch 27/30\n",
      "469/469 [==============================] - 11s 22ms/step - loss: 0.3591 - accuracy: 0.8943\n",
      "Epoch 28/30\n",
      "469/469 [==============================] - 10s 21ms/step - loss: 0.2855 - accuracy: 0.9156\n",
      "Epoch 29/30\n",
      "469/469 [==============================] - 10s 21ms/step - loss: 0.3060 - accuracy: 0.9092\n",
      "Epoch 30/30\n",
      "469/469 [==============================] - 10s 21ms/step - loss: 0.3255 - accuracy: 0.9062\n"
     ]
    },
    {
     "data": {
      "text/plain": [
       "<keras.callbacks.History at 0x29c447910>"
      ]
     },
     "execution_count": 13,
     "metadata": {},
     "output_type": "execute_result"
    }
   ],
   "source": [
    "#Train model\n",
    "model.fit(x=training_set, epochs=30)"
   ]
  },
  {
   "cell_type": "code",
   "execution_count": 14,
   "id": "0550fd93",
   "metadata": {},
   "outputs": [
    {
     "name": "stdout",
     "output_type": "stream",
     "text": [
      "94/94 [==============================] - 2s 22ms/step - loss: 0.4468 - accuracy: 0.8830\n"
     ]
    },
    {
     "data": {
      "text/plain": [
       "[0.44675764441490173, 0.8830000162124634]"
      ]
     },
     "execution_count": 14,
     "metadata": {},
     "output_type": "execute_result"
    }
   ],
   "source": [
    "#check accuracy\n",
    "\n",
    "model.evaluate(test_set)"
   ]
  },
  {
   "cell_type": "code",
   "execution_count": 15,
   "id": "d0115704",
   "metadata": {},
   "outputs": [],
   "source": [
    "model.save(\"60epoch.h5\")"
   ]
  },
  {
   "cell_type": "code",
   "execution_count": 26,
   "id": "953fb010",
   "metadata": {},
   "outputs": [
    {
     "name": "stdout",
     "output_type": "stream",
     "text": [
      "{0: 'Bean', 1: 'Bitter_Gourd', 2: 'Bottle_Gourd', 3: 'Brinjal', 4: 'Broccoli', 5: 'Cabbage', 6: 'Capsicum', 7: 'Carrot', 8: 'Cauliflower', 9: 'Cucumber', 10: 'Papaya', 11: 'Potato', 12: 'Pumpkin', 13: 'Radish', 14: 'Tomato'}\n"
     ]
    }
   ],
   "source": [
    "rev_indicies = {v: k for k, v in training_set.class_indices.items()}\n"
   ]
  },
  {
   "cell_type": "code",
   "execution_count": 25,
   "id": "bd8ad2c9",
   "metadata": {},
   "outputs": [
    {
     "name": "stdout",
     "output_type": "stream",
     "text": [
      "1/1 [==============================] - 0s 12ms/step\n",
      "Vegetable: Broccoli\n"
     ]
    }
   ],
   "source": [
    "singlePred = 'Vegetable_Images/validation/Broccoli/1201.jpg'\n",
    "test_image = image.load_img(singlePred, target_size = [targetSize, targetSize], color_mode = color)\n",
    "\n",
    "test_image = image.img_to_array(test_image)\n",
    "\n",
    "test_image = np.expand_dims(test_image, axis= 0)\n",
    "\n",
    "results = model.predict(test_image/255.0)\n",
    "index = np.argmax(results)\n",
    "\n",
    "print(f'Vegetable: {rev_indicies[index]}')"
   ]
  }
 ],
 "metadata": {
  "kernelspec": {
   "display_name": "veggies",
   "language": "python",
   "name": "veggies"
  },
  "language_info": {
   "codemirror_mode": {
    "name": "ipython",
    "version": 3
   },
   "file_extension": ".py",
   "mimetype": "text/x-python",
   "name": "python",
   "nbconvert_exporter": "python",
   "pygments_lexer": "ipython3",
   "version": "3.10.10"
  }
 },
 "nbformat": 4,
 "nbformat_minor": 5
}
